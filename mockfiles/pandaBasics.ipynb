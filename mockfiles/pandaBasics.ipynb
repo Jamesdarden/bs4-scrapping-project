{
 "cells": [
  {
   "cell_type": "code",
   "execution_count": 10,
   "metadata": {},
   "outputs": [
    {
     "name": "stdout",
     "output_type": "stream",
     "text": [
      "                                    price\n",
      "country     city                         \n",
      "Afghanistan Adraskan                86.27\n",
      "            Ghormach                98.26\n",
      "            Lashkar Gāh             68.18\n",
      "            Nahrīn                  26.61\n",
      "            Paghmān                 29.46\n",
      "...                                   ...\n",
      "Yemen       Qaryat al Qābil          5.14\n",
      "            Zakhim           [69.9, 9.99]\n",
      "            Ḩammām Damt             13.31\n",
      "Zimbabwe    Marondera               74.69\n",
      "            Mutoko                  69.31\n",
      "\n",
      "[973 rows x 1 columns]\n"
     ]
    },
    {
     "name": "stderr",
     "output_type": "stream",
     "text": [
      "C:\\Users\\james\\AppData\\Local\\Temp\\ipykernel_17592\\1015384242.py:17: FutureWarning: The default value of regex will change from True to False in a future version. In addition, single character regular expressions will *not* be treated as literal strings when regex=True.\n",
      "  new_df['price'] = new_df['price'].str.replace(r'$','').astype(float)\n"
     ]
    }
   ],
   "source": [
    "import pandas as pd\n",
    "import numpy as np\n",
    "file = pd.read_csv('mockdata.csv')\n",
    "# print(file.describe())\n",
    "# print(file.head())\n",
    "# print(file.tail())\n",
    "# for c in file.columns:  find out the column names\n",
    "#     print(c)\n",
    "# c is not a list of columns\n",
    "# c = list(file.columns)  \n",
    "# print(c)\n",
    "# rearrage columns if nessassary\n",
    "data_cols = ['gender','id','price', 'first_name', 'last_name', 'email' , 'ip_address', 'address', 'city', 'country'] \n",
    "# make new data frame using these columns\n",
    "new_df = file[data_cols]\n",
    "# make price an fload and remove $ reference columns by dataframe['nameOfCol']\n",
    "new_df['price'] = new_df['price'].str.replace(r'$','').astype(float)\n",
    "# print(new_df['price'])\n",
    "\n",
    "# to combine sheets needs to have matching columns\n",
    "# con_def = pd.concat([df1, df2])\n",
    "\n",
    "# quick check to see how many lines in a file\n",
    "# print(len(new_df.index))\n",
    "\n",
    "#create a pivot table index is what you want to group by, values is the data to put into index groups\n",
    "# pivot = pd.pivot_table(new_df, index=['country','city'], values='price',aggfunc=np.abs)\n",
    "# print(pivot)\n",
    "\n",
    "# vlook up merge two or more sheets based on column\n",
    "# merge = con_df.merge(refs.csv, how=left ,on='id') merging two file with a left join\n",
    "\n",
    "\n",
    "    "
   ]
  },
  {
   "cell_type": "code",
   "execution_count": null,
   "metadata": {},
   "outputs": [],
   "source": []
  }
 ],
 "metadata": {
  "interpreter": {
   "hash": "a12e9363551b8c00f2a8196a8c2a11103d455ce1eda3e2083545a8aea861a137"
  },
  "kernelspec": {
   "display_name": "Python 3.10.2 ('venv': venv)",
   "language": "python",
   "name": "python3"
  },
  "language_info": {
   "codemirror_mode": {
    "name": "ipython",
    "version": 3
   },
   "file_extension": ".py",
   "mimetype": "text/x-python",
   "name": "python",
   "nbconvert_exporter": "python",
   "pygments_lexer": "ipython3",
   "version": "3.10.2"
  },
  "orig_nbformat": 4
 },
 "nbformat": 4,
 "nbformat_minor": 2
}
