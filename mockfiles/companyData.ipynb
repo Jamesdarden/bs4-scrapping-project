{
 "cells": [
  {
   "cell_type": "code",
   "execution_count": 14,
   "metadata": {},
   "outputs": [
    {
     "name": "stdout",
     "output_type": "stream",
     "text": [
      "                      qty\n",
      "date                     \n",
      "2022-02-01  3860563745012\n",
      "2022-02-02  4798619035736\n",
      "2022-02-03  5384880552910\n",
      "2022-02-04  5429444900108\n",
      "2022-02-05  4662011634865\n",
      "2022-02-06  3884944185698\n",
      "2022-02-07  5365947943775\n",
      "2022-02-08  3604356340636\n",
      "2022-02-09  8091913469731\n",
      "2022-02-10  4961368948127\n",
      "2022-02-11  2082830386508\n",
      "2022-02-12  5804579714887\n",
      "2022-02-13  5031386274318\n",
      "2022-02-14  3778301316220\n",
      "2022-02-15  1221692494777\n",
      "2022-02-16  5826667137005\n",
      "2022-02-17  8449793538850\n",
      "2022-02-18  3562350769450\n",
      "2022-02-19  4569471391237\n",
      "2022-02-20  5631640644153\n",
      "2022-02-21  1093869703456\n",
      "2022-02-22  4941530705431\n",
      "2022-02-23  2516613661030\n"
     ]
    }
   ],
   "source": [
    "import pandas as pd\n",
    "import numpy as np\n",
    "import glob  #gets all files in a dir\n",
    "\n",
    "#gets files in the directory that is specified.\n",
    "files = glob.glob('mockfiles\\*.csv')\n",
    "\n",
    "# concat is better then append\n",
    "df_list = []\n",
    "\n",
    "for f in files:\n",
    "    csv = pd.read_csv(f)\n",
    "    df_list.append(csv)\n",
    "    \n",
    "sales = pd.concat(df_list)\n",
    "\n",
    "# print(sales.index)\n",
    "# find out datatypes of the columns\n",
    "# print(sales.dtypes)\n",
    "\n",
    "# sales['order_id'] = sales['order_id'].astype(int)\n",
    "sales['date'] =pd.to_datetime(sales['date'])\n",
    "\n",
    "# print(sales.dtypes)\n",
    "\n",
    "total_sales = pd.pivot_table(sales, index=['date'], values='qty', aggfunc=np.sum)\n",
    "print(total_sales)\n",
    "\n"
   ]
  },
  {
   "cell_type": "code",
   "execution_count": null,
   "metadata": {},
   "outputs": [],
   "source": []
  }
 ],
 "metadata": {
  "interpreter": {
   "hash": "a12e9363551b8c00f2a8196a8c2a11103d455ce1eda3e2083545a8aea861a137"
  },
  "kernelspec": {
   "display_name": "Python 3.10.2 ('venv': venv)",
   "language": "python",
   "name": "python3"
  },
  "language_info": {
   "codemirror_mode": {
    "name": "ipython",
    "version": 3
   },
   "file_extension": ".py",
   "mimetype": "text/x-python",
   "name": "python",
   "nbconvert_exporter": "python",
   "pygments_lexer": "ipython3",
   "version": "3.10.2"
  },
  "orig_nbformat": 4
 },
 "nbformat": 4,
 "nbformat_minor": 2
}
