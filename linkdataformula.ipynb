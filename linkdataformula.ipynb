{
 "cells": [
  {
   "cell_type": "code",
   "execution_count": null,
   "metadata": {},
   "outputs": [],
   "source": [
    "import pandas as pd\n",
    "import numpy as np\n",
    "import re\n",
    "import sys\n",
    "\n",
    "file = pd.read_csv('supportlinkdata.csv')\n",
    "# ['link', 'titleText', 'citeTag', 'caption']\n",
    "\n",
    "\n",
    "\n",
    "\n",
    "# print(file.dtypes)\n",
    "\n",
    "\n",
    "def data_cleaning(x):\n",
    "    regex_caption = r'(pc.?matic).*\\d{3}.?\\d{3}.?\\d{4}|maticpc|pc.?matic.*\\W{12}|pc.?matic.*number|support|tech'\n",
    "    regex_link =r\"(pc[\\w_-]?matic)|[\\d]{3}\\w?[\\d|\\W]{3}\\w?[\\d\\W]{4}|support|number\"\n",
    "    regex_link_exclude = r\"review|bbb.org|amazon.com|pcpitstop.com|linkedin.com|pc\\w?pitstop.com\"\n",
    "    \n",
    "    x.count = 0\n",
    "    \n",
    "    if x.link:\n",
    "        if re.search(regex_link_exclude, x.link, flags=re.I):\n",
    "            return x.count\n",
    "            \n",
    "        if re.search(regex_link, x.link, flags=re.I):\n",
    "            x.count + 1\n",
    "        \n",
    "    if x.caption:\n",
    "        if re.search(regex_caption, x.caption, flags=re.I):\n",
    "            x.count + 1\n",
    "    return x.count \n",
    "  \n",
    "    # for col in x:\n",
    "    #     if x.columns[col] == 'link':\n",
    "    #         if re.compile(regex_link_exclude, x['link'], flags=re.I):\n",
    "    #             x['count'] = None\n",
    "    #         elif re.compile(regex_link, x['link'], flags=re.I):\n",
    "    #             x['count'] +=1\n",
    "    #     if x.columns[col] == 'caption':\n",
    "    #         if re.compile(regex_caption, x['caption'], flags=re.I):\n",
    "    #             x['count'] += 1\n",
    "    #     else:\n",
    "    #         return -1\n",
    "    # for col in x.columns:\n",
    "    # if re.compile(regex_link_exclude, x['link'], flags=re.I):\n",
    "    #     return False\n",
    "    # elif re.compile(regex_link, x['link'], flags=re.I):\n",
    "    #     return True\n",
    "    # elif re.compile(regex_caption, x['caption'], flags=re.I):\n",
    "    #     return True\n",
    "    # else:\n",
    "    #     return False\n",
    "    \n",
    " \n",
    "flagcount = file.apply(data_cleaning, axis=1) #1 applyies to rows\n",
    "# # filtered_data = file['link'].filter(regex=regex_link).any(axis=1).to_string()\n",
    "print(type(flagcount))\n",
    "print(flagcount.head(), 'filtered data' )\n",
    "# # print(len(file.index))"
   ]
  },
  {
   "cell_type": "code",
   "execution_count": null,
   "metadata": {},
   "outputs": [],
   "source": [
    "\n",
    "#df.iloc[0,1] get info from data frame via int\n",
    "#df.loc['row, column'] get info via string\n",
    "\n",
    "\n",
    "# logical index can filter rows \n",
    "# boolean_index = [False, True , False]\n",
    "# df.[boolean_index] would return row index 1\n",
    "\n",
    "# boolean_index = df['age'] > 12\n",
    "# df2[boolean_index]  would return all the rows with age colum greater then 12\n",
    "\n",
    "# short hand indexer\n",
    "# df2[ df2['age'] > 12 ]"
   ]
  },
  {
   "cell_type": "code",
   "execution_count": 3,
   "metadata": {},
   "outputs": [
    {
     "name": "stdout",
     "output_type": "stream",
     "text": [
      "link                                                                                                   94\n",
      "titleText                                                                                              94\n",
      "citeTag                                                                                                94\n",
      "caption                                                                                                94\n",
      "pcmatic & number in caption  (pc.?matic).*\\d{3}.*\\d{3}.*\\d{4}|maticpc                                  94\n",
      "pcm in caption  pc.?matic\"                                                                             94\n",
      "suscpicous link  support|number|pc.?matic|matic                                                        94\n",
      "review|bbb.org|amazon.com|pcpitstop.com|linkedin.com in link                            excude list    94\n",
      "PC Matic in link or number                                                                             94\n",
      "dtype: int64\n",
      "Unnamed: 0     143\n",
      "link           143\n",
      "titleText      143\n",
      "citeTag        143\n",
      "caption        143\n",
      "count_value    143\n",
      "dtype: int64\n"
     ]
    }
   ],
   "source": [
    "import pandas as pd\n",
    "\n",
    "online_data = pd.read_csv('fake support links .csv')\n",
    "automated_clean_data = pd.read_csv('filtered_data.csv')\n",
    "\n",
    "print(online_data.count())\n",
    "print(automated_clean_data.count())\n",
    "\n",
    "\n",
    "different = automated_clean_data.drop(automated_clean_data[automated_clean_data['link']==online_data['link']])\n",
    "print(different)"
   ]
  },
  {
   "cell_type": "code",
   "execution_count": null,
   "metadata": {},
   "outputs": [],
   "source": []
  }
 ],
 "metadata": {
  "interpreter": {
   "hash": "a12e9363551b8c00f2a8196a8c2a11103d455ce1eda3e2083545a8aea861a137"
  },
  "kernelspec": {
   "display_name": "Python 3.10.2 ('venv': venv)",
   "language": "python",
   "name": "python3"
  },
  "language_info": {
   "codemirror_mode": {
    "name": "ipython",
    "version": 3
   },
   "file_extension": ".py",
   "mimetype": "text/x-python",
   "name": "python",
   "nbconvert_exporter": "python",
   "pygments_lexer": "ipython3",
   "version": "3.10.1"
  },
  "orig_nbformat": 4
 },
 "nbformat": 4,
 "nbformat_minor": 2
}
