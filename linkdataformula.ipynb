{
 "cells": [
  {
   "cell_type": "code",
   "execution_count": null,
   "metadata": {},
   "outputs": [],
   "source": [
    "import pandas as pd\n",
    "import numpy as np\n",
    "import re\n",
    "import sys\n",
    "\n",
    "file = pd.read_csv('supportlinkdata.csv')\n",
    "# ['link', 'titleText', 'citeTag', 'caption']\n",
    "\n",
    "\n",
    "\n",
    "\n",
    "# print(file.dtypes)\n",
    "\n",
    "\n",
    "def data_cleaning(x):\n",
    "    regex_caption = r'(pc.?matic).*\\d{3}.?\\d{3}.?\\d{4}|maticpc|pc.?matic.*\\W{12}|pc.?matic.*number|support|tech'\n",
    "    regex_link =r\"(pc[\\w_-]?matic)|[\\d]{3}\\w?[\\d|\\W]{3}\\w?[\\d\\W]{4}|support|number\"\n",
    "    regex_link_exclude = r\"review|bbb.org|amazon.com|pcpitstop.com|linkedin.com|pc\\w?pitstop.com\"\n",
    "    \n",
    "    x.count = 0\n",
    "    \n",
    "    if x.link:\n",
    "        if re.search(regex_link_exclude, x.link, flags=re.I):\n",
    "            return x.count\n",
    "            \n",
    "        if re.search(regex_link, x.link, flags=re.I):\n",
    "            x.count + 1\n",
    "        \n",
    "    if x.caption:\n",
    "        if re.search(regex_caption, x.caption, flags=re.I):\n",
    "            x.count + 1\n",
    "    return x.count \n",
    "  \n",
    "    # for col in x:\n",
    "    #     if x.columns[col] == 'link':\n",
    "    #         if re.compile(regex_link_exclude, x['link'], flags=re.I):\n",
    "    #             x['count'] = None\n",
    "    #         elif re.compile(regex_link, x['link'], flags=re.I):\n",
    "    #             x['count'] +=1\n",
    "    #     if x.columns[col] == 'caption':\n",
    "    #         if re.compile(regex_caption, x['caption'], flags=re.I):\n",
    "    #             x['count'] += 1\n",
    "    #     else:\n",
    "    #         return -1\n",
    "    # for col in x.columns:\n",
    "    # if re.compile(regex_link_exclude, x['link'], flags=re.I):\n",
    "    #     return False\n",
    "    # elif re.compile(regex_link, x['link'], flags=re.I):\n",
    "    #     return True\n",
    "    # elif re.compile(regex_caption, x['caption'], flags=re.I):\n",
    "    #     return True\n",
    "    # else:\n",
    "    #     return False\n",
    "    \n",
    " \n",
    "flagcount = file.apply(data_cleaning, axis=1) #1 applyies to rows\n",
    "# # filtered_data = file['link'].filter(regex=regex_link).any(axis=1).to_string()\n",
    "print(type(flagcount))\n",
    "print(flagcount.head(), 'filtered data' )\n",
    "# # print(len(file.index))"
   ]
  },
  {
   "cell_type": "code",
   "execution_count": null,
   "metadata": {},
   "outputs": [],
   "source": []
  }
 ],
 "metadata": {
  "interpreter": {
   "hash": "a12e9363551b8c00f2a8196a8c2a11103d455ce1eda3e2083545a8aea861a137"
  },
  "kernelspec": {
   "display_name": "Python 3.10.2 ('venv': venv)",
   "language": "python",
   "name": "python3"
  },
  "language_info": {
   "codemirror_mode": {
    "name": "ipython",
    "version": 3
   },
   "file_extension": ".py",
   "mimetype": "text/x-python",
   "name": "python",
   "nbconvert_exporter": "python",
   "pygments_lexer": "ipython3",
   "version": "3.10.2"
  },
  "orig_nbformat": 4
 },
 "nbformat": 4,
 "nbformat_minor": 2
}
